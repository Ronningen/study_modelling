{
 "cells": [
  {
   "cell_type": "code",
   "execution_count": null,
   "metadata": {},
   "outputs": [],
   "source": [
    "import json\n",
    "import subprocess\n",
    "\n",
    "data = {\n",
    "    \"key1_int\": 123,\n",
    "    \"key2_string\": \"456string\",\n",
    "    \"dict_key\": {\n",
    "        \"dict_type\": \"mydict\",\n",
    "        \"dict_value\": 123456.7\n",
    "    } \n",
    "}\n",
    "with open(\"test.json\", \"w\") as file:\n",
    "    json.dump(data, file)\n",
    "\n",
    "input_json_file_var = \"./test.json\"\n",
    "p = subprocess.Popen(\"./example {}\".format(input_json_file_var), shell=True, cwd=\"./\", stdout=subprocess.PIPE, stderr=subprocess.PIPE)\n",
    "print(\"I can do anything asynchroneously during the subprocess run.\")\n",
    "str_stdout, str_stderr = p.communicate()\n",
    "print(\"process finished with return code {}\".format(p.returncode))\n",
    "print(\"stdout:\\n\\t {}\".format(str_stdout))\n",
    "print(\"\\nstderr:\\n\\t {}\".format(str_stderr))"
   ]
  }
 ],
 "metadata": {
  "kernelspec": {
   "display_name": "Python 3.8.10 64-bit",
   "language": "python",
   "name": "python3"
  },
  "language_info": {
   "codemirror_mode": {
    "name": "ipython",
    "version": 3
   },
   "file_extension": ".py",
   "mimetype": "text/x-python",
   "name": "python",
   "nbconvert_exporter": "python",
   "pygments_lexer": "ipython3",
   "version": "3.8.10"
  },
  "orig_nbformat": 2,
  "vscode": {
   "interpreter": {
    "hash": "31f2aee4e71d21fbe5cf8b01ff0e069b9275f58929596ceb00d14d90e3e16cd6"
   }
  }
 },
 "nbformat": 4,
 "nbformat_minor": 2
}
